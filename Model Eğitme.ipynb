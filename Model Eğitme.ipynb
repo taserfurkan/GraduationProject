{
 "cells": [
  {
   "cell_type": "code",
   "execution_count": 1,
   "id": "f752bfb2",
   "metadata": {},
   "outputs": [],
   "source": [
    "#veri analizi için gerkli olan pandas kütüp.\n",
    "import cv2\n",
    "import mediapipe as mp\n",
    "import pandas as pd\n",
    "import numpy as np"
   ]
  },
  {
   "cell_type": "code",
   "execution_count": 46,
   "id": "1a69bae9",
   "metadata": {},
   "outputs": [],
   "source": [
    "#mediapipe kütüphanesi içerisindeki çizim yapma olanağı fonksiyonu \n",
    "#ve holistic modeli(vücut duruşunu analiz edebilen model.)\n",
    "mp_drawing = mp.solutions.drawing_utils\n",
    "mp_holistic= mp.solutions.holistic"
   ]
  },
  {
   "cell_type": "code",
   "execution_count": 58,
   "id": "f44b3f31",
   "metadata": {},
   "outputs": [
    {
     "data": {
      "text/html": [
       "<div>\n",
       "<style scoped>\n",
       "    .dataframe tbody tr th:only-of-type {\n",
       "        vertical-align: middle;\n",
       "    }\n",
       "\n",
       "    .dataframe tbody tr th {\n",
       "        vertical-align: top;\n",
       "    }\n",
       "\n",
       "    .dataframe thead th {\n",
       "        text-align: right;\n",
       "    }\n",
       "</style>\n",
       "<table border=\"1\" class=\"dataframe\">\n",
       "  <thead>\n",
       "    <tr style=\"text-align: right;\">\n",
       "      <th></th>\n",
       "      <th>sinif</th>\n",
       "      <th>x1</th>\n",
       "      <th>y1</th>\n",
       "      <th>z1</th>\n",
       "      <th>v1</th>\n",
       "      <th>x2</th>\n",
       "      <th>y2</th>\n",
       "      <th>z2</th>\n",
       "      <th>v2</th>\n",
       "      <th>x3</th>\n",
       "      <th>...</th>\n",
       "      <th>z19</th>\n",
       "      <th>v19</th>\n",
       "      <th>x20</th>\n",
       "      <th>y20</th>\n",
       "      <th>z20</th>\n",
       "      <th>v20</th>\n",
       "      <th>x21</th>\n",
       "      <th>y21</th>\n",
       "      <th>z21</th>\n",
       "      <th>v21</th>\n",
       "    </tr>\n",
       "  </thead>\n",
       "  <tbody>\n",
       "    <tr>\n",
       "      <th>0</th>\n",
       "      <td>acik</td>\n",
       "      <td>0.225088</td>\n",
       "      <td>1.044629</td>\n",
       "      <td>7.739540e-07</td>\n",
       "      <td>0</td>\n",
       "      <td>0.315400</td>\n",
       "      <td>0.962998</td>\n",
       "      <td>-0.035961</td>\n",
       "      <td>0</td>\n",
       "      <td>0.376819</td>\n",
       "      <td>...</td>\n",
       "      <td>-0.110307</td>\n",
       "      <td>0</td>\n",
       "      <td>0.170698</td>\n",
       "      <td>0.537782</td>\n",
       "      <td>-0.131636</td>\n",
       "      <td>0</td>\n",
       "      <td>0.213942</td>\n",
       "      <td>0.468773</td>\n",
       "      <td>-0.144289</td>\n",
       "      <td>0</td>\n",
       "    </tr>\n",
       "    <tr>\n",
       "      <th>1</th>\n",
       "      <td>acik</td>\n",
       "      <td>0.208643</td>\n",
       "      <td>1.012064</td>\n",
       "      <td>9.563261e-07</td>\n",
       "      <td>0</td>\n",
       "      <td>0.306593</td>\n",
       "      <td>0.942716</td>\n",
       "      <td>-0.035472</td>\n",
       "      <td>0</td>\n",
       "      <td>0.369034</td>\n",
       "      <td>...</td>\n",
       "      <td>-0.069082</td>\n",
       "      <td>0</td>\n",
       "      <td>0.173087</td>\n",
       "      <td>0.463767</td>\n",
       "      <td>-0.081141</td>\n",
       "      <td>0</td>\n",
       "      <td>0.206512</td>\n",
       "      <td>0.388251</td>\n",
       "      <td>-0.088690</td>\n",
       "      <td>0</td>\n",
       "    </tr>\n",
       "    <tr>\n",
       "      <th>2</th>\n",
       "      <td>acik</td>\n",
       "      <td>0.209160</td>\n",
       "      <td>1.010453</td>\n",
       "      <td>8.666879e-07</td>\n",
       "      <td>0</td>\n",
       "      <td>0.302437</td>\n",
       "      <td>0.928409</td>\n",
       "      <td>-0.035031</td>\n",
       "      <td>0</td>\n",
       "      <td>0.363148</td>\n",
       "      <td>...</td>\n",
       "      <td>-0.076422</td>\n",
       "      <td>0</td>\n",
       "      <td>0.168821</td>\n",
       "      <td>0.451982</td>\n",
       "      <td>-0.089087</td>\n",
       "      <td>0</td>\n",
       "      <td>0.199531</td>\n",
       "      <td>0.374267</td>\n",
       "      <td>-0.097066</td>\n",
       "      <td>0</td>\n",
       "    </tr>\n",
       "    <tr>\n",
       "      <th>3</th>\n",
       "      <td>acik</td>\n",
       "      <td>0.195755</td>\n",
       "      <td>1.003875</td>\n",
       "      <td>9.036769e-07</td>\n",
       "      <td>0</td>\n",
       "      <td>0.295285</td>\n",
       "      <td>0.918182</td>\n",
       "      <td>-0.029585</td>\n",
       "      <td>0</td>\n",
       "      <td>0.355819</td>\n",
       "      <td>...</td>\n",
       "      <td>-0.071676</td>\n",
       "      <td>0</td>\n",
       "      <td>0.131151</td>\n",
       "      <td>0.427862</td>\n",
       "      <td>-0.082521</td>\n",
       "      <td>0</td>\n",
       "      <td>0.154082</td>\n",
       "      <td>0.342488</td>\n",
       "      <td>-0.089210</td>\n",
       "      <td>0</td>\n",
       "    </tr>\n",
       "    <tr>\n",
       "      <th>4</th>\n",
       "      <td>acik</td>\n",
       "      <td>0.197779</td>\n",
       "      <td>1.010492</td>\n",
       "      <td>8.196512e-07</td>\n",
       "      <td>0</td>\n",
       "      <td>0.297196</td>\n",
       "      <td>0.919405</td>\n",
       "      <td>-0.029836</td>\n",
       "      <td>0</td>\n",
       "      <td>0.359779</td>\n",
       "      <td>...</td>\n",
       "      <td>-0.069778</td>\n",
       "      <td>0</td>\n",
       "      <td>0.128618</td>\n",
       "      <td>0.425370</td>\n",
       "      <td>-0.081350</td>\n",
       "      <td>0</td>\n",
       "      <td>0.150866</td>\n",
       "      <td>0.338325</td>\n",
       "      <td>-0.088611</td>\n",
       "      <td>0</td>\n",
       "    </tr>\n",
       "  </tbody>\n",
       "</table>\n",
       "<p>5 rows × 85 columns</p>\n",
       "</div>"
      ],
      "text/plain": [
       "  sinif        x1        y1            z1  v1        x2        y2        z2  \\\n",
       "0  acik  0.225088  1.044629  7.739540e-07   0  0.315400  0.962998 -0.035961   \n",
       "1  acik  0.208643  1.012064  9.563261e-07   0  0.306593  0.942716 -0.035472   \n",
       "2  acik  0.209160  1.010453  8.666879e-07   0  0.302437  0.928409 -0.035031   \n",
       "3  acik  0.195755  1.003875  9.036769e-07   0  0.295285  0.918182 -0.029585   \n",
       "4  acik  0.197779  1.010492  8.196512e-07   0  0.297196  0.919405 -0.029836   \n",
       "\n",
       "   v2        x3  ...       z19  v19       x20       y20       z20  v20  \\\n",
       "0   0  0.376819  ... -0.110307    0  0.170698  0.537782 -0.131636    0   \n",
       "1   0  0.369034  ... -0.069082    0  0.173087  0.463767 -0.081141    0   \n",
       "2   0  0.363148  ... -0.076422    0  0.168821  0.451982 -0.089087    0   \n",
       "3   0  0.355819  ... -0.071676    0  0.131151  0.427862 -0.082521    0   \n",
       "4   0  0.359779  ... -0.069778    0  0.128618  0.425370 -0.081350    0   \n",
       "\n",
       "        x21       y21       z21  v21  \n",
       "0  0.213942  0.468773 -0.144289    0  \n",
       "1  0.206512  0.388251 -0.088690    0  \n",
       "2  0.199531  0.374267 -0.097066    0  \n",
       "3  0.154082  0.342488 -0.089210    0  \n",
       "4  0.150866  0.338325 -0.088611    0  \n",
       "\n",
       "[5 rows x 85 columns]"
      ]
     },
     "execution_count": 58,
     "metadata": {},
     "output_type": "execute_result"
    }
   ],
   "source": [
    "df = pd.read_csv('Sağ El Dataları.csv',encoding='unicode_escape')\n",
    "df.head()\n",
    "#elde ettiğimiz dataları data frame aktar ve örnekleme yap"
   ]
  },
  {
   "cell_type": "code",
   "execution_count": 59,
   "id": "3de6bc8f",
   "metadata": {},
   "outputs": [
    {
     "data": {
      "text/plain": [
       "(            x1        y1            z1  v1        x2        y2        z2  v2  \\\n",
       " 0     0.225088  1.044629  7.739540e-07   0  0.315400  0.962998 -0.035961   0   \n",
       " 1     0.208643  1.012064  9.563261e-07   0  0.306593  0.942716 -0.035472   0   \n",
       " 2     0.209160  1.010453  8.666879e-07   0  0.302437  0.928409 -0.035031   0   \n",
       " 3     0.195755  1.003875  9.036769e-07   0  0.295285  0.918182 -0.029585   0   \n",
       " 4     0.197779  1.010492  8.196512e-07   0  0.297196  0.919405 -0.029836   0   \n",
       " ...        ...       ...           ...  ..       ...       ...       ...  ..   \n",
       " 1941  0.261729  0.905157 -5.820000e-07   0  0.354265  0.797013  0.004655   0   \n",
       " 1942  0.264001  0.901586 -5.960000e-07   0  0.356859  0.794152 -0.002705   0   \n",
       " 1943  0.270799  0.897609 -6.360000e-07   0  0.361502  0.801193 -0.006744   0   \n",
       " 1944  0.275491  0.894282 -5.530000e-07   0  0.370733  0.803010 -0.015539   0   \n",
       " 1945  0.307774  0.908972 -3.030000e-07   0  0.398564  0.848731 -0.033794   0   \n",
       " \n",
       "             x3        y3  ...       z19  v19       x20       y20       z20  \\\n",
       " 0     0.376819  0.813583  ... -0.110307    0  0.170698  0.537782 -0.131636   \n",
       " 1     0.369034  0.791918  ... -0.069082    0  0.173087  0.463767 -0.081141   \n",
       " 2     0.363148  0.781088  ... -0.076422    0  0.168821  0.451982 -0.089087   \n",
       " 3     0.355819  0.767586  ... -0.071676    0  0.131151  0.427862 -0.082521   \n",
       " 4     0.359779  0.764282  ... -0.069778    0  0.128618  0.425370 -0.081350   \n",
       " ...        ...       ...  ...       ...  ...       ...       ...       ...   \n",
       " 1941  0.411428  0.684550  ... -0.090184    0  0.282044  0.615181 -0.071707   \n",
       " 1942  0.416391  0.685954  ... -0.085541    0  0.283190  0.612007 -0.068165   \n",
       " 1943  0.423788  0.693735  ... -0.083900    0  0.282191  0.612116 -0.067052   \n",
       " 1944  0.438988  0.699367  ... -0.080612    0  0.280567  0.595461 -0.062317   \n",
       " 1945  0.475926  0.713346  ... -0.093031    0  0.314216  0.623841 -0.081870   \n",
       " \n",
       "       v20       x21       y21       z21  v21  \n",
       " 0       0  0.213942  0.468773 -0.144289    0  \n",
       " 1       0  0.206512  0.388251 -0.088690    0  \n",
       " 2       0  0.199531  0.374267 -0.097066    0  \n",
       " 3       0  0.154082  0.342488 -0.089210    0  \n",
       " 4       0  0.150866  0.338325 -0.088611    0  \n",
       " ...   ...       ...       ...       ...  ...  \n",
       " 1941    0  0.233687  0.655778 -0.048877    0  \n",
       " 1942    0  0.238029  0.652453 -0.045078    0  \n",
       " 1943    0  0.237545  0.652829 -0.043301    0  \n",
       " 1944    0  0.240187  0.645675 -0.037142    0  \n",
       " 1945    0  0.303503  0.696388 -0.060820    0  \n",
       " \n",
       " [1946 rows x 84 columns],\n",
       " 0         acik\n",
       " 1         acik\n",
       " 2         acik\n",
       " 3         acik\n",
       " 4         acik\n",
       "          ...  \n",
       " 1941    kapali\n",
       " 1942    kapali\n",
       " 1943    kapali\n",
       " 1944    kapali\n",
       " 1945    kapali\n",
       " Name: sinif, Length: 1946, dtype: object)"
      ]
     },
     "execution_count": 59,
     "metadata": {},
     "output_type": "execute_result"
    }
   ],
   "source": [
    "X = df.drop('sinif', axis=1) # ilk sütün olan drop edilir ve özellikler X değişkenine aktarılır.\n",
    "y = df['sinif'] # y değişkenine sınıflandırma değerleri atılır. (açık ve kapalı)\n",
    "X,y"
   ]
  },
  {
   "cell_type": "code",
   "execution_count": 60,
   "id": "38b3ac97",
   "metadata": {},
   "outputs": [],
   "source": [
    "from sklearn.pipeline import make_pipeline \n",
    "from sklearn.preprocessing import StandardScaler \n",
    "from sklearn.model_selection import train_test_split\n",
    "from sklearn.linear_model import LogisticRegression, RidgeClassifier\n",
    "from sklearn.ensemble import RandomForestClassifier, GradientBoostingClassifier\n"
   ]
  },
  {
   "cell_type": "code",
   "execution_count": 61,
   "id": "7bc86c67",
   "metadata": {},
   "outputs": [],
   "source": [
    "pipelines = {\n",
    "    'lr':make_pipeline(StandardScaler(), LogisticRegression()),\n",
    "    'rc':make_pipeline(StandardScaler(), RidgeClassifier()),\n",
    "    'rf':make_pipeline(StandardScaler(), RandomForestClassifier()),\n",
    "    'gb':make_pipeline(StandardScaler(), GradientBoostingClassifier()),\n",
    "}"
   ]
  },
  {
   "cell_type": "code",
   "execution_count": 62,
   "id": "d05cec8e",
   "metadata": {},
   "outputs": [],
   "source": [
    "X_train, X_test, y_train, y_test = train_test_split(X, y, test_size=0.3, random_state=1234)"
   ]
  },
  {
   "cell_type": "code",
   "execution_count": 63,
   "id": "f63a1949",
   "metadata": {},
   "outputs": [],
   "source": [
    "fit_models = {}\n",
    "for algo, pipeline in pipelines.items():\n",
    "    model = pipeline.fit(X_train, y_train)\n",
    "    fit_models[algo] = model"
   ]
  },
  {
   "cell_type": "code",
   "execution_count": 64,
   "id": "8de9c5ae",
   "metadata": {},
   "outputs": [],
   "source": [
    "from sklearn.metrics import accuracy_score # Accuracy metrics \n",
    "import pickle "
   ]
  },
  {
   "cell_type": "code",
   "execution_count": 65,
   "id": "6f90d01e",
   "metadata": {},
   "outputs": [
    {
     "name": "stdout",
     "output_type": "stream",
     "text": [
      "lr 0.9982876712328768\n",
      "rc 0.9982876712328768\n",
      "rf 0.9982876712328768\n",
      "gb 0.9965753424657534\n"
     ]
    }
   ],
   "source": [
    "for algo, model in fit_models.items():\n",
    "    yhat = model.predict(X_test)\n",
    "    print(algo, accuracy_score(y_test, yhat))"
   ]
  },
  {
   "cell_type": "code",
   "execution_count": 66,
   "id": "68a1923c",
   "metadata": {},
   "outputs": [],
   "source": [
    "with open('RightHand.pkl', 'wb') as f:\n",
    "    pickle.dump(fit_models['rf'], f)"
   ]
  },
  {
   "cell_type": "code",
   "execution_count": 68,
   "id": "11c2bb71",
   "metadata": {},
   "outputs": [
    {
     "name": "stderr",
     "output_type": "stream",
     "text": [
      "C:\\Users\\taser\\anaconda3\\lib\\site-packages\\sklearn\\base.py:451: UserWarning: X does not have valid feature names, but StandardScaler was fitted with feature names\n",
      "  \"X does not have valid feature names, but\"\n",
      "C:\\Users\\taser\\anaconda3\\lib\\site-packages\\sklearn\\base.py:451: UserWarning: X does not have valid feature names, but StandardScaler was fitted with feature names\n",
      "  \"X does not have valid feature names, but\"\n",
      "C:\\Users\\taser\\anaconda3\\lib\\site-packages\\sklearn\\base.py:451: UserWarning: X does not have valid feature names, but StandardScaler was fitted with feature names\n",
      "  \"X does not have valid feature names, but\"\n",
      "C:\\Users\\taser\\anaconda3\\lib\\site-packages\\sklearn\\base.py:451: UserWarning: X does not have valid feature names, but StandardScaler was fitted with feature names\n",
      "  \"X does not have valid feature names, but\"\n"
     ]
    },
    {
     "name": "stdout",
     "output_type": "stream",
     "text": [
      "acik [9.99979353e-01 2.06465286e-05]\n",
      "acik [9.99979353e-01 2.06465286e-05]\n"
     ]
    },
    {
     "name": "stderr",
     "output_type": "stream",
     "text": [
      "C:\\Users\\taser\\anaconda3\\lib\\site-packages\\sklearn\\base.py:451: UserWarning: X does not have valid feature names, but StandardScaler was fitted with feature names\n",
      "  \"X does not have valid feature names, but\"\n",
      "C:\\Users\\taser\\anaconda3\\lib\\site-packages\\sklearn\\base.py:451: UserWarning: X does not have valid feature names, but StandardScaler was fitted with feature names\n",
      "  \"X does not have valid feature names, but\"\n",
      "C:\\Users\\taser\\anaconda3\\lib\\site-packages\\sklearn\\base.py:451: UserWarning: X does not have valid feature names, but StandardScaler was fitted with feature names\n",
      "  \"X does not have valid feature names, but\"\n",
      "C:\\Users\\taser\\anaconda3\\lib\\site-packages\\sklearn\\base.py:451: UserWarning: X does not have valid feature names, but StandardScaler was fitted with feature names\n",
      "  \"X does not have valid feature names, but\"\n"
     ]
    },
    {
     "name": "stdout",
     "output_type": "stream",
     "text": [
      "acik [9.99979353e-01 2.06465286e-05]\n",
      "acik [9.99979353e-01 2.06465286e-05]\n"
     ]
    },
    {
     "name": "stderr",
     "output_type": "stream",
     "text": [
      "C:\\Users\\taser\\anaconda3\\lib\\site-packages\\sklearn\\base.py:451: UserWarning: X does not have valid feature names, but StandardScaler was fitted with feature names\n",
      "  \"X does not have valid feature names, but\"\n",
      "C:\\Users\\taser\\anaconda3\\lib\\site-packages\\sklearn\\base.py:451: UserWarning: X does not have valid feature names, but StandardScaler was fitted with feature names\n",
      "  \"X does not have valid feature names, but\"\n",
      "C:\\Users\\taser\\anaconda3\\lib\\site-packages\\sklearn\\base.py:451: UserWarning: X does not have valid feature names, but StandardScaler was fitted with feature names\n",
      "  \"X does not have valid feature names, but\"\n",
      "C:\\Users\\taser\\anaconda3\\lib\\site-packages\\sklearn\\base.py:451: UserWarning: X does not have valid feature names, but StandardScaler was fitted with feature names\n",
      "  \"X does not have valid feature names, but\"\n",
      "C:\\Users\\taser\\anaconda3\\lib\\site-packages\\sklearn\\base.py:451: UserWarning: X does not have valid feature names, but StandardScaler was fitted with feature names\n",
      "  \"X does not have valid feature names, but\"\n",
      "C:\\Users\\taser\\anaconda3\\lib\\site-packages\\sklearn\\base.py:451: UserWarning: X does not have valid feature names, but StandardScaler was fitted with feature names\n",
      "  \"X does not have valid feature names, but\"\n"
     ]
    },
    {
     "name": "stdout",
     "output_type": "stream",
     "text": [
      "acik [9.99979353e-01 2.06465286e-05]\n",
      "acik [9.99979353e-01 2.06465286e-05]\n",
      "acik [9.99979353e-01 2.06465286e-05]\n"
     ]
    },
    {
     "name": "stderr",
     "output_type": "stream",
     "text": [
      "C:\\Users\\taser\\anaconda3\\lib\\site-packages\\sklearn\\base.py:451: UserWarning: X does not have valid feature names, but StandardScaler was fitted with feature names\n",
      "  \"X does not have valid feature names, but\"\n",
      "C:\\Users\\taser\\anaconda3\\lib\\site-packages\\sklearn\\base.py:451: UserWarning: X does not have valid feature names, but StandardScaler was fitted with feature names\n",
      "  \"X does not have valid feature names, but\"\n",
      "C:\\Users\\taser\\anaconda3\\lib\\site-packages\\sklearn\\base.py:451: UserWarning: X does not have valid feature names, but StandardScaler was fitted with feature names\n",
      "  \"X does not have valid feature names, but\"\n",
      "C:\\Users\\taser\\anaconda3\\lib\\site-packages\\sklearn\\base.py:451: UserWarning: X does not have valid feature names, but StandardScaler was fitted with feature names\n",
      "  \"X does not have valid feature names, but\"\n",
      "C:\\Users\\taser\\anaconda3\\lib\\site-packages\\sklearn\\base.py:451: UserWarning: X does not have valid feature names, but StandardScaler was fitted with feature names\n",
      "  \"X does not have valid feature names, but\"\n",
      "C:\\Users\\taser\\anaconda3\\lib\\site-packages\\sklearn\\base.py:451: UserWarning: X does not have valid feature names, but StandardScaler was fitted with feature names\n",
      "  \"X does not have valid feature names, but\"\n"
     ]
    },
    {
     "name": "stdout",
     "output_type": "stream",
     "text": [
      "acik [9.99979353e-01 2.06465286e-05]\n",
      "kapali [5.19329842e-04 9.99480670e-01]\n",
      "kapali"
     ]
    },
    {
     "name": "stderr",
     "output_type": "stream",
     "text": [
      "C:\\Users\\taser\\anaconda3\\lib\\site-packages\\sklearn\\base.py:451: UserWarning: X does not have valid feature names, but StandardScaler was fitted with feature names\n",
      "  \"X does not have valid feature names, but\"\n",
      "C:\\Users\\taser\\anaconda3\\lib\\site-packages\\sklearn\\base.py:451: UserWarning: X does not have valid feature names, but StandardScaler was fitted with feature names\n",
      "  \"X does not have valid feature names, but\"\n",
      "C:\\Users\\taser\\anaconda3\\lib\\site-packages\\sklearn\\base.py:451: UserWarning: X does not have valid feature names, but StandardScaler was fitted with feature names\n",
      "  \"X does not have valid feature names, but\"\n",
      "C:\\Users\\taser\\anaconda3\\lib\\site-packages\\sklearn\\base.py:451: UserWarning: X does not have valid feature names, but StandardScaler was fitted with feature names\n",
      "  \"X does not have valid feature names, but\"\n"
     ]
    },
    {
     "name": "stdout",
     "output_type": "stream",
     "text": [
      " [1.55380019e-04 9.99844620e-01]\n",
      "kapali [0.00145166 0.99854834]\n",
      "kapali [0.00145166 0.99854834]\n"
     ]
    },
    {
     "name": "stderr",
     "output_type": "stream",
     "text": [
      "C:\\Users\\taser\\anaconda3\\lib\\site-packages\\sklearn\\base.py:451: UserWarning: X does not have valid feature names, but StandardScaler was fitted with feature names\n",
      "  \"X does not have valid feature names, but\"\n",
      "C:\\Users\\taser\\anaconda3\\lib\\site-packages\\sklearn\\base.py:451: UserWarning: X does not have valid feature names, but StandardScaler was fitted with feature names\n",
      "  \"X does not have valid feature names, but\"\n",
      "C:\\Users\\taser\\anaconda3\\lib\\site-packages\\sklearn\\base.py:451: UserWarning: X does not have valid feature names, but StandardScaler was fitted with feature names\n",
      "  \"X does not have valid feature names, but\"\n",
      "C:\\Users\\taser\\anaconda3\\lib\\site-packages\\sklearn\\base.py:451: UserWarning: X does not have valid feature names, but StandardScaler was fitted with feature names\n",
      "  \"X does not have valid feature names, but\"\n"
     ]
    },
    {
     "name": "stdout",
     "output_type": "stream",
     "text": [
      "kapali [0.00145166 0.99854834]\n",
      "kapali [0.00145166 0.99854834]\n"
     ]
    },
    {
     "name": "stderr",
     "output_type": "stream",
     "text": [
      "C:\\Users\\taser\\anaconda3\\lib\\site-packages\\sklearn\\base.py:451: UserWarning: X does not have valid feature names, but StandardScaler was fitted with feature names\n",
      "  \"X does not have valid feature names, but\"\n",
      "C:\\Users\\taser\\anaconda3\\lib\\site-packages\\sklearn\\base.py:451: UserWarning: X does not have valid feature names, but StandardScaler was fitted with feature names\n",
      "  \"X does not have valid feature names, but\"\n",
      "C:\\Users\\taser\\anaconda3\\lib\\site-packages\\sklearn\\base.py:451: UserWarning: X does not have valid feature names, but StandardScaler was fitted with feature names\n",
      "  \"X does not have valid feature names, but\"\n",
      "C:\\Users\\taser\\anaconda3\\lib\\site-packages\\sklearn\\base.py:451: UserWarning: X does not have valid feature names, but StandardScaler was fitted with feature names\n",
      "  \"X does not have valid feature names, but\"\n"
     ]
    },
    {
     "name": "stdout",
     "output_type": "stream",
     "text": [
      "kapali [0.00994641 0.99005359]\n",
      "kapali [2.16467781e-04 9.99783532e-01]\n"
     ]
    },
    {
     "name": "stderr",
     "output_type": "stream",
     "text": [
      "C:\\Users\\taser\\anaconda3\\lib\\site-packages\\sklearn\\base.py:451: UserWarning: X does not have valid feature names, but StandardScaler was fitted with feature names\n",
      "  \"X does not have valid feature names, but\"\n",
      "C:\\Users\\taser\\anaconda3\\lib\\site-packages\\sklearn\\base.py:451: UserWarning: X does not have valid feature names, but StandardScaler was fitted with feature names\n",
      "  \"X does not have valid feature names, but\"\n",
      "C:\\Users\\taser\\anaconda3\\lib\\site-packages\\sklearn\\base.py:451: UserWarning: X does not have valid feature names, but StandardScaler was fitted with feature names\n",
      "  \"X does not have valid feature names, but\"\n",
      "C:\\Users\\taser\\anaconda3\\lib\\site-packages\\sklearn\\base.py:451: UserWarning: X does not have valid feature names, but StandardScaler was fitted with feature names\n",
      "  \"X does not have valid feature names, but\"\n"
     ]
    },
    {
     "name": "stdout",
     "output_type": "stream",
     "text": [
      "kapali [2.16467781e-04 9.99783532e-01]\n",
      "kapali [5.18677325e-05 9.99948132e-01]\n"
     ]
    },
    {
     "name": "stderr",
     "output_type": "stream",
     "text": [
      "C:\\Users\\taser\\anaconda3\\lib\\site-packages\\sklearn\\base.py:451: UserWarning: X does not have valid feature names, but StandardScaler was fitted with feature names\n",
      "  \"X does not have valid feature names, but\"\n",
      "C:\\Users\\taser\\anaconda3\\lib\\site-packages\\sklearn\\base.py:451: UserWarning: X does not have valid feature names, but StandardScaler was fitted with feature names\n",
      "  \"X does not have valid feature names, but\"\n",
      "C:\\Users\\taser\\anaconda3\\lib\\site-packages\\sklearn\\base.py:451: UserWarning: X does not have valid feature names, but StandardScaler was fitted with feature names\n",
      "  \"X does not have valid feature names, but\"\n",
      "C:\\Users\\taser\\anaconda3\\lib\\site-packages\\sklearn\\base.py:451: UserWarning: X does not have valid feature names, but StandardScaler was fitted with feature names\n",
      "  \"X does not have valid feature names, but\"\n"
     ]
    },
    {
     "name": "stdout",
     "output_type": "stream",
     "text": [
      "acik [9.99979353e-01 2.06465286e-05]\n",
      "acik [9.99979353e-01 2.06465286e-05]\n",
      "acik [9.99979353e-01 2.06465286e-05]\n"
     ]
    },
    {
     "name": "stderr",
     "output_type": "stream",
     "text": [
      "C:\\Users\\taser\\anaconda3\\lib\\site-packages\\sklearn\\base.py:451: UserWarning: X does not have valid feature names, but StandardScaler was fitted with feature names\n",
      "  \"X does not have valid feature names, but\"\n",
      "C:\\Users\\taser\\anaconda3\\lib\\site-packages\\sklearn\\base.py:451: UserWarning: X does not have valid feature names, but StandardScaler was fitted with feature names\n",
      "  \"X does not have valid feature names, but\"\n",
      "C:\\Users\\taser\\anaconda3\\lib\\site-packages\\sklearn\\base.py:451: UserWarning: X does not have valid feature names, but StandardScaler was fitted with feature names\n",
      "  \"X does not have valid feature names, but\"\n",
      "C:\\Users\\taser\\anaconda3\\lib\\site-packages\\sklearn\\base.py:451: UserWarning: X does not have valid feature names, but StandardScaler was fitted with feature names\n",
      "  \"X does not have valid feature names, but\"\n"
     ]
    },
    {
     "name": "stdout",
     "output_type": "stream",
     "text": [
      "acik [9.99979353e-01 2.06465286e-05]\n",
      "acik [9.99979353e-01 2.06465286e-05]\n",
      "acik"
     ]
    },
    {
     "name": "stderr",
     "output_type": "stream",
     "text": [
      "C:\\Users\\taser\\anaconda3\\lib\\site-packages\\sklearn\\base.py:451: UserWarning: X does not have valid feature names, but StandardScaler was fitted with feature names\n",
      "  \"X does not have valid feature names, but\"\n",
      "C:\\Users\\taser\\anaconda3\\lib\\site-packages\\sklearn\\base.py:451: UserWarning: X does not have valid feature names, but StandardScaler was fitted with feature names\n",
      "  \"X does not have valid feature names, but\"\n",
      "C:\\Users\\taser\\anaconda3\\lib\\site-packages\\sklearn\\base.py:451: UserWarning: X does not have valid feature names, but StandardScaler was fitted with feature names\n",
      "  \"X does not have valid feature names, but\"\n",
      "C:\\Users\\taser\\anaconda3\\lib\\site-packages\\sklearn\\base.py:451: UserWarning: X does not have valid feature names, but StandardScaler was fitted with feature names\n",
      "  \"X does not have valid feature names, but\"\n",
      "C:\\Users\\taser\\anaconda3\\lib\\site-packages\\sklearn\\base.py:451: UserWarning: X does not have valid feature names, but StandardScaler was fitted with feature names\n",
      "  \"X does not have valid feature names, but\"\n"
     ]
    },
    {
     "name": "stdout",
     "output_type": "stream",
     "text": [
      " [9.99979353e-01 2.06465286e-05]\n",
      "acik [9.99979353e-01 2.06465286e-05]\n",
      "acik"
     ]
    },
    {
     "name": "stderr",
     "output_type": "stream",
     "text": [
      "C:\\Users\\taser\\anaconda3\\lib\\site-packages\\sklearn\\base.py:451: UserWarning: X does not have valid feature names, but StandardScaler was fitted with feature names\n",
      "  \"X does not have valid feature names, but\"\n",
      "C:\\Users\\taser\\anaconda3\\lib\\site-packages\\sklearn\\base.py:451: UserWarning: X does not have valid feature names, but StandardScaler was fitted with feature names\n",
      "  \"X does not have valid feature names, but\"\n",
      "C:\\Users\\taser\\anaconda3\\lib\\site-packages\\sklearn\\base.py:451: UserWarning: X does not have valid feature names, but StandardScaler was fitted with feature names\n",
      "  \"X does not have valid feature names, but\"\n"
     ]
    },
    {
     "name": "stdout",
     "output_type": "stream",
     "text": [
      " [9.99979353e-01 2.06465286e-05]\n"
     ]
    }
   ],
   "source": [
    "cap = cv2.VideoCapture(0)\n",
    "with mp_holistic.Holistic(min_detection_confidence=0.5, min_tracking_confidence=0.5) as holistic:\n",
    "    \n",
    "    while cap.isOpened():\n",
    "        ret, frame = cap.read()\n",
    "        \n",
    "        image = cv2.cvtColor(frame, cv2.COLOR_BGR2RGB)\n",
    "        image.flags.writeable = False        \n",
    "        \n",
    "        results = holistic.process(image)\n",
    "        \n",
    "        \n",
    "        image.flags.writeable = True   \n",
    "        image = cv2.cvtColor(image, cv2.COLOR_RGB2BGR)\n",
    "        \n",
    "        mp_drawing.draw_landmarks(image, results.right_hand_landmarks, mp_holistic.HAND_CONNECTIONS, \n",
    "                                  mp_drawing.DrawingSpec(color=(245,117,66), thickness=2, circle_radius=4),\n",
    "                                  mp_drawing.DrawingSpec(color=(245,66,230), thickness=2, circle_radius=2)\n",
    "        )\n",
    "        try:\n",
    "            pose = results.right_hand_landmarks.landmark\n",
    "            pose_row = list(np.array([[landmark.x, landmark.y, landmark.z, landmark.visibility] for landmark in pose]).flatten())\n",
    "            \n",
    "            \n",
    "            row = pose_row\n",
    "            \n",
    "            # Make Detections\n",
    "            X = pd.DataFrame([row])\n",
    "            body_language_class = model.predict(X)[0]\n",
    "            body_language_prob = model.predict_proba(X)[0]\n",
    "            print(body_language_class, body_language_prob)\n",
    "            \n",
    "            \n",
    "            cv2.rectangle(image, (0,0), (250, 60), (245, 117, 16), -1)\n",
    "            cv2.putText(image, 'SINIF'\n",
    "                        , (95,12), cv2.FONT_HERSHEY_SIMPLEX, 0.5, (0, 0, 0), 1, cv2.LINE_AA)\n",
    "            cv2.putText(image, body_language_class.split(' ')[0]\n",
    "                        , (90,40), cv2.FONT_HERSHEY_SIMPLEX, 1, (255, 255, 255), 2, cv2.LINE_AA)\n",
    "            cv2.putText(image, 'TAHMIN'\n",
    "                        , (15,12), cv2.FONT_HERSHEY_SIMPLEX, 0.5, (0, 0, 0), 1, cv2.LINE_AA)\n",
    "            cv2.putText(image, str(round(body_language_prob[np.argmax(body_language_prob)],2))\n",
    "                        , (10,40), cv2.FONT_HERSHEY_SIMPLEX, 1, (255, 255, 255), 2, cv2.LINE_AA)\n",
    "            \n",
    "        except Exception as error:\n",
    "            print(error)\n",
    "            pass\n",
    "                        \n",
    "        cv2.imshow('Raw Webcam Feed', image)\n",
    "\n",
    "        if cv2.waitKey(10) & 0xFF == ord('q'):\n",
    "            break\n",
    "\n",
    "cap.release()\n",
    "cv2.destroyAllWindows()"
   ]
  }
 ],
 "metadata": {
  "kernelspec": {
   "display_name": "Python 3",
   "language": "python",
   "name": "python3"
  },
  "language_info": {
   "codemirror_mode": {
    "name": "ipython",
    "version": 3
   },
   "file_extension": ".py",
   "mimetype": "text/x-python",
   "name": "python",
   "nbconvert_exporter": "python",
   "pygments_lexer": "ipython3",
   "version": "3.7.6"
  }
 },
 "nbformat": 4,
 "nbformat_minor": 5
}
